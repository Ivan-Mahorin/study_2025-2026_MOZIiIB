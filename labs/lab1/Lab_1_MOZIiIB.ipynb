{
 "cells": [
  {
   "cell_type": "markdown",
   "id": "0c3e45fe-892d-441f-a43c-1e2c7069b4b9",
   "metadata": {},
   "source": [
    "## Лабораторная работа №1"
   ]
  },
  {
   "cell_type": "markdown",
   "id": "1592330d-4453-48dc-94e9-1cf159d6c95a",
   "metadata": {},
   "source": [
    "#### 1. Реализовать шифр Цезаря с произвольным ключом K"
   ]
  },
  {
   "cell_type": "code",
   "execution_count": 17,
   "id": "80edcdea-da12-45ce-bd69-82f68b4d6923",
   "metadata": {},
   "outputs": [
    {
     "data": {
      "text/plain": [
       "caesar_cipher (generic function with 1 method)"
      ]
     },
     "execution_count": 17,
     "metadata": {},
     "output_type": "execute_result"
    }
   ],
   "source": [
    "# Шифр Цезаря с произвольным ключом K\n",
    "function caesar_cipher(text::String, k::Int)::String\n",
    "    # Создание массива символов русского алфавита (без ё)\n",
    "    alphabet = collect(\"абвгдежзийклмнопрстуфхцчшщъыьэюя\")\n",
    "    # Инициализация пустой строки для результата\n",
    "    result = \"\"\n",
    "    \n",
    "    # Итерация по каждому символу в тексте, приведенному к нижнему регистру\n",
    "    for char in lowercase(text)\n",
    "        # Поиск индекса символа в алфавите\n",
    "        idx = findfirst(isequal(char), alphabet)\n",
    "        # Если символ найден в алфавите (т.е. это буква)\n",
    "        if idx !== nothing\n",
    "            # Вычисление нового индекса с учетом сдвига k и цикличности алфавита\n",
    "            new_idx = (idx - 1 + k) % length(alphabet) + 1\n",
    "            # Добавление зашифрованного символа к результату\n",
    "            result *= string(alphabet[new_idx])\n",
    "        else\n",
    "            # Если символ не из алфавита (пробел, знак препинания), добавляем без изменений\n",
    "            result *= char\n",
    "        end\n",
    "    end\n",
    "    \n",
    "    # Возврат полученной зашифрованной строки\n",
    "    return result\n",
    "end"
   ]
  },
  {
   "cell_type": "code",
   "execution_count": 21,
   "id": "deeff234-ee01-45ba-997f-f07e16a1061b",
   "metadata": {},
   "outputs": [
    {
     "name": "stdout",
     "output_type": "stream",
     "text": [
      "уфмжйц\n"
     ]
    }
   ],
   "source": [
    "# Тестирование шифра Цезаря\n",
    "println(caesar_cipher(\"привет\", 4))  "
   ]
  },
  {
   "cell_type": "markdown",
   "id": "4fcf687f-2ef6-4671-a96a-673ef858542c",
   "metadata": {},
   "source": [
    "#### 2. Реализовать шифр Атбаш"
   ]
  },
  {
   "cell_type": "code",
   "execution_count": 26,
   "id": "66c0a115-024e-4116-bdad-cf0e14cac366",
   "metadata": {},
   "outputs": [
    {
     "data": {
      "text/plain": [
       "atbash_cipher (generic function with 1 method)"
      ]
     },
     "execution_count": 26,
     "metadata": {},
     "output_type": "execute_result"
    }
   ],
   "source": [
    "# Шифр Атбаш\n",
    "function atbash_cipher(text::String)::String\n",
    "    # Создание массива символов русского алфавита (без ё)\n",
    "    alphabet = collect(\"абвгдежзийклмнопрстуфхцчшщъыьэюя \")\n",
    "    # Инициализация пустой строки для результата\n",
    "    result = \"\"\n",
    "    \n",
    "    # Итерация по каждому символу в тексте в нижнем регистре\n",
    "    for char in lowercase(text)\n",
    "        # Поиск индекса символа в алфавите\n",
    "        idx = findfirst(isequal(char), alphabet)\n",
    "        # Если символ найден в алфавите (т.е. это буква)\n",
    "        if idx !== nothing\n",
    "            # Вычисление индекса симметричного символа (от конца алфавита)\n",
    "            result *= string(alphabet[end - idx + 1])\n",
    "        else\n",
    "            # Если символ не из алфавита, добавляем без изменений\n",
    "            result *= char\n",
    "        end\n",
    "    end\n",
    "    \n",
    "    # Возврат результата\n",
    "    return result\n",
    "end"
   ]
  },
  {
   "cell_type": "code",
   "execution_count": 27,
   "id": "474d8659-a093-47e9-bf93-27783c1da6d5",
   "metadata": {
    "scrolled": true
   },
   "outputs": [
    {
     "name": "stdout",
     "output_type": "stream",
     "text": [
      "сршюыо\n"
     ]
    }
   ],
   "source": [
    "# Тестирование шифра Атбаш\n",
    "println(atbash_cipher(\"привет\"))    "
   ]
  }
 ],
 "metadata": {
  "kernelspec": {
   "display_name": "Julia 1.11.7",
   "language": "julia",
   "name": "julia-1.11"
  },
  "language_info": {
   "file_extension": ".jl",
   "mimetype": "application/julia",
   "name": "julia",
   "version": "1.11.7"
  }
 },
 "nbformat": 4,
 "nbformat_minor": 5
}
