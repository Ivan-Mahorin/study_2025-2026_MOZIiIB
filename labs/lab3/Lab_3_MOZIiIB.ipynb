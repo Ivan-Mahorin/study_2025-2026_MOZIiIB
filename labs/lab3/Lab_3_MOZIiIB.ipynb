{
 "cells": [
  {
   "cell_type": "markdown",
   "id": "e9464275-f3e7-4e02-ab8c-1efbda926c00",
   "metadata": {},
   "source": [
    "## Лабораторная работа №3"
   ]
  },
  {
   "cell_type": "markdown",
   "id": "dc520ca8-2065-4a3a-951d-d922f5fb2f7f",
   "metadata": {},
   "source": [
    "#### 1. Реализовать алгоритм шифрования гаммированием конечной гаммой"
   ]
  },
  {
   "cell_type": "code",
   "execution_count": 8,
   "id": "662f66ee-bae6-401f-acb5-2e659dfad772",
   "metadata": {},
   "outputs": [
    {
     "name": "stderr",
     "output_type": "stream",
     "text": [
      "WARNING: redefinition of constant Main.RUSSIAN_ALPHABET. This may fail, cause incorrect answers, or produce other errors.\n"
     ]
    },
    {
     "name": "stdout",
     "output_type": "stream",
     "text": [
      "Исходный текст: приказ\n",
      "Гамма: гамма\n",
      "Зашифрованный текст: усхчбл\n",
      "Расшифрованный текст: приказ\n"
     ]
    }
   ],
   "source": [
    "# Шифрование гам\n",
    "\n",
    "# Создаем массив символов русского алфавита для корректной работы\n",
    "const RUSSIAN_ALPHABET = collect(\"абвгдежзийклмнопрстуфхцчшщъыьэюя\")\n",
    "\n",
    "# Функция для преобразования буквы в число (а=1, б=2, ..., я=33)\n",
    "function char_to_num(c::Char)::Int\n",
    "    idx = findfirst(isequal(c), RUSSIAN_ALPHABET)\n",
    "    return idx === nothing ? 0 : idx\n",
    "end\n",
    "\n",
    "# Функция для преобразования числа в букву (1=а, 2=б, ..., 33=я)\n",
    "function num_to_char(n::Int)::Char\n",
    "    return RUSSIAN_ALPHABET[n]\n",
    "end\n",
    "\n",
    "# Функция шифрования гаммированием\n",
    "function gamma_encrypt(text::String, gamma::String)::String\n",
    "    # Приводим текст и гамму к нижнему регистру и удаляем пробелы\n",
    "    text = replace(lowercase(text), \" \" => \"\")\n",
    "    gamma = replace(lowercase(gamma), \" \" => \"\")\n",
    "    \n",
    "    # Преобразуем текст и гамму в числовые последовательности\n",
    "    text_chars = collect(text)\n",
    "    gamma_chars = collect(gamma)\n",
    "    \n",
    "    text_nums = [char_to_num(c) for c in text_chars]\n",
    "    gamma_nums = [char_to_num(c) for c in gamma_chars]\n",
    "    \n",
    "    # Повторяем гамму до длины текста\n",
    "    repeated_gamma = Int[]\n",
    "    for i in 1:length(text_nums)\n",
    "        push!(repeated_gamma, gamma_nums[(i-1) % length(gamma_nums) + 1])\n",
    "    end\n",
    "    \n",
    "    # Шифруем с помощью сложения по модулю 33\n",
    "    cipher_nums = Int[]\n",
    "    for i in 1:length(text_nums)\n",
    "        s = text_nums[i] + repeated_gamma[i]\n",
    "        c = s % 33\n",
    "        if c == 0\n",
    "            c = 33\n",
    "        end\n",
    "        push!(cipher_nums, c)\n",
    "    end\n",
    "    \n",
    "    # Преобразуем числа обратно в буквы\n",
    "    cipher_chars = Char[]\n",
    "    for n in cipher_nums\n",
    "        push!(cipher_chars, num_to_char(n))\n",
    "    end\n",
    "    \n",
    "    return String(cipher_chars)\n",
    "end\n",
    "\n",
    "# Функция дешифрования гаммированием\n",
    "function gamma_decrypt(cipher::String, gamma::String)::String\n",
    "    # Приводим шифртекст и гамму к нижнему регистру\n",
    "    cipher = lowercase(cipher)\n",
    "    gamma = replace(lowercase(gamma), \" \" => \"\")\n",
    "    \n",
    "    # Преобразуем шифртекст и гамму в числовые последовательности\n",
    "    cipher_chars = collect(cipher)\n",
    "    gamma_chars = collect(gamma)\n",
    "    \n",
    "    cipher_nums = [char_to_num(c) for c in cipher_chars]\n",
    "    gamma_nums = [char_to_num(c) for c in gamma_chars]\n",
    "    \n",
    "    # Повторяем гамму до длины шифртекста\n",
    "    repeated_gamma = Int[]\n",
    "    for i in 1:length(cipher_nums)\n",
    "        push!(repeated_gamma, gamma_nums[(i-1) % length(gamma_nums) + 1])\n",
    "    end\n",
    "    \n",
    "    # Дешифруем с помощью вычитания по модулю 33\n",
    "    text_nums = Int[]\n",
    "    for i in 1:length(cipher_nums)\n",
    "        p = cipher_nums[i] - repeated_gamma[i]\n",
    "        # Корректируем отрицательные значения и 0\n",
    "        if p <= 0\n",
    "            p += 33\n",
    "        end\n",
    "        push!(text_nums, p)\n",
    "    end\n",
    "    \n",
    "    # Преобразуем числа обратно в буквы\n",
    "    text_chars = Char[]\n",
    "    for n in text_nums\n",
    "        push!(text_chars, num_to_char(n))\n",
    "    end\n",
    "    \n",
    "    return String(text_chars)\n",
    "end\n",
    "\n",
    "# Пример из лабораторной работы\n",
    "text = \"приказ\"\n",
    "gamma = \"гамма\"\n",
    "println(\"Исходный текст: \", text)\n",
    "println(\"Гамма: \", gamma)\n",
    "\n",
    "encrypted = gamma_encrypt(text, gamma)\n",
    "println(\"Зашифрованный текст: \", encrypted)\n",
    "\n",
    "decrypted = gamma_decrypt(encrypted, gamma)\n",
    "println(\"Расшифрованный текст: \", decrypted)"
   ]
  },
  {
   "cell_type": "code",
   "execution_count": null,
   "id": "6e4814b4-6761-465f-a4fb-33b4cc3e7eea",
   "metadata": {},
   "outputs": [],
   "source": []
  }
 ],
 "metadata": {
  "kernelspec": {
   "display_name": "Julia 1.11.7",
   "language": "julia",
   "name": "julia-1.11"
  },
  "language_info": {
   "file_extension": ".jl",
   "mimetype": "application/julia",
   "name": "julia",
   "version": "1.11.7"
  }
 },
 "nbformat": 4,
 "nbformat_minor": 5
}
